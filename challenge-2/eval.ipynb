{
 "cells": [
  {
   "cell_type": "code",
   "execution_count": 1,
   "metadata": {},
   "outputs": [],
   "source": [
    "# Imports\n",
    "import matplotlib.pyplot as plt\n",
    "import numpy as np\n",
    "import torch\n",
    "\n",
    "import random\n",
    "\n",
    "import numpy as np\n",
    "import torch\n",
    "\n",
    "\n",
    "def set_seed(seed):\n",
    "    \"\"\"Set all seeds for reproducibility\"\"\"\n",
    "    random.seed(seed)  # Python random module\n",
    "    np.random.seed(seed)  # NumPy\n",
    "    torch.manual_seed(seed)  # PyTorch CPU\n",
    "    torch.cuda.manual_seed(seed)  # PyTorch GPU\n",
    "    torch.cuda.manual_seed_all(seed)  # PyTorch multi-GPU\n",
    "    torch.backends.cudnn.deterministic = True  # CUDNN\n",
    "    torch.backends.cudnn.benchmark = False  # CUDNN\n",
    "\n",
    "\n",
    "set_seed(42)"
   ]
  },
  {
   "cell_type": "markdown",
   "metadata": {},
   "source": [
    "## True dynamics"
   ]
  },
  {
   "cell_type": "code",
   "execution_count": 2,
   "metadata": {},
   "outputs": [],
   "source": [
    "def ode(X, t, zeta=0.05, omega0=1.0, force=0.0):\n",
    "    \"\"\"\n",
    "    Forced damped Harmonic Oscillator ODE\n",
    "    \"\"\"\n",
    "    x, v = X\n",
    "    dv = -2 * zeta * omega0 * v - omega0**2 * x + force\n",
    "    return [v, dv]\n",
    "\n",
    "\n",
    "def rk4_single_step(f, X0, t, **kwargs):\n",
    "    \"\"\"\n",
    "    Fourth-order Runge-Kutta method for solving ODEs\n",
    "\n",
    "    \"\"\"\n",
    "    assert len(t) == 2, \"t must have two elements\"\n",
    "    dt = t[1] - t[0]\n",
    "    assert dt > 0, \"t must be increasing\"\n",
    "\n",
    "    k1 = f(X0, t[0], **kwargs)\n",
    "    k2 = f(X0 + 0.5 * dt * np.array(k1), t[0] + 0.5 * dt, **kwargs)\n",
    "    k3 = f(X0 + 0.5 * dt * np.array(k2), t[0] + 0.5 * dt, **kwargs)\n",
    "    k4 = f(X0 + dt * np.array(k3), t[1], **kwargs)\n",
    "    X = X0 + (dt / 6) * (\n",
    "        np.array(k1) + 2 * np.array(k2) + 2 * np.array(k3) + np.array(k4)\n",
    "    )\n",
    "\n",
    "    return X"
   ]
  },
  {
   "cell_type": "markdown",
   "metadata": {},
   "source": [
    "## Learnt dynamics"
   ]
  },
  {
   "cell_type": "code",
   "execution_count": 3,
   "metadata": {},
   "outputs": [
    {
     "data": {
      "text/plain": [
       "HarmonicMLP(\n",
       "  (model): Sequential(\n",
       "    (0): Linear(in_features=3, out_features=1024, bias=True)\n",
       "    (1): GELU(approximate='none')\n",
       "    (2): Linear(in_features=1024, out_features=1024, bias=True)\n",
       "    (3): GELU(approximate='none')\n",
       "    (4): Linear(in_features=1024, out_features=1024, bias=True)\n",
       "    (5): GELU(approximate='none')\n",
       "    (6): Linear(in_features=1024, out_features=2, bias=True)\n",
       "  )\n",
       ")"
      ]
     },
     "execution_count": 3,
     "metadata": {},
     "output_type": "execute_result"
    }
   ],
   "source": [
    "# Define a simple MLP (Multi-Layer Perceptron) for Harmonic Oscillator\n",
    "class HarmonicMLP(torch.nn.Module):\n",
    "    def __init__(self, input_size=3, hidden_size=1024, output_size=2, num_layers=4):\n",
    "        super(HarmonicMLP, self).__init__()\n",
    "\n",
    "        # Input layer\n",
    "        layers = [torch.nn.Linear(input_size, hidden_size), torch.nn.GELU()]\n",
    "\n",
    "        # Hidden layers\n",
    "        for _ in range(num_layers - 2):\n",
    "            layers.extend([torch.nn.Linear(hidden_size, hidden_size), torch.nn.GELU()])\n",
    "\n",
    "        # Output layer\n",
    "        layers.append(torch.nn.Linear(hidden_size, output_size))\n",
    "\n",
    "        # Sequential container\n",
    "        self.model = torch.nn.Sequential(*layers)\n",
    "\n",
    "    def forward(self, x):\n",
    "        return x[:, :2] + self.model(x)\n",
    "\n",
    "\n",
    "model = HarmonicMLP()\n",
    "model_save_path = \"best_model.pth\"\n",
    "model.load_state_dict(torch.load(model_save_path, map_location=\"cpu\"))\n",
    "model.eval()"
   ]
  },
  {
   "cell_type": "markdown",
   "metadata": {},
   "source": [
    "## Control task"
   ]
  },
  {
   "cell_type": "code",
   "execution_count": 64,
   "metadata": {},
   "outputs": [],
   "source": [
    "class PID:\n",
    "    def __init__(self, kp, ki, kd):\n",
    "        self.kp = kp\n",
    "        self.ki = ki\n",
    "        self.kd = kd\n",
    "        self.integral = 0\n",
    "        self.previous_error = 0\n",
    "\n",
    "    def __call__(self, reference, x, dt):\n",
    "        error = reference - x\n",
    "        self.integral += error * dt\n",
    "        derivative = (error - self.previous_error) / dt\n",
    "        self.previous_error = error\n",
    "        return self.kp * error + self.ki * self.integral + self.kd * derivative\n",
    "\n",
    "\n",
    "def eval_model_with_controller(f, controller, reference, X0, n, dt):\n",
    "    \"\"\"\n",
    "    Evaluate the model with a PID controller\n",
    "    \"\"\"\n",
    "    X = np.zeros((n, 2))\n",
    "    forces = np.zeros((n, 1))\n",
    "    X[0] = X0\n",
    "    for i in range(1, n):\n",
    "        u = controller(reference=reference[i], x=X[i - 1][0], dt=dt)\n",
    "        z = np.stack([X[i - 1][0], X[i - 1][1], u], axis=0)\n",
    "        X[i] = f(z)\n",
    "        forces[i] = u\n",
    "\n",
    "    return X, forces"
   ]
  },
  {
   "cell_type": "code",
   "execution_count": null,
   "metadata": {},
   "outputs": [],
   "source": [
    "controller = PID(-0.5, 0.05, 0.9)\n",
    "model_X, model_forces = eval_model_with_controller(\n",
    "    f=lambda z: model.forward(torch.tensor(z, dtype=torch.float32).reshape(1, 3))\n",
    "    .detach()\n",
    "    .numpy(),\n",
    "    controller=controller,\n",
    "    X0=np.array([1.0, 0.0]),\n",
    "    n=10_000,\n",
    "    dt=0.01,\n",
    "    reference=np.ones(10_000),\n",
    ")"
   ]
  },
  {
   "cell_type": "code",
   "execution_count": 80,
   "metadata": {},
   "outputs": [],
   "source": [
    "controller = PID(-0.5, 0.05, 0.9)\n",
    "true_X, true_forces = eval_model_with_controller(\n",
    "    f=lambda z: rk4_single_step(\n",
    "        ode,\n",
    "        z[:-1],\n",
    "        t=[0, 0.01],\n",
    "        force=z[-1],\n",
    "    ),\n",
    "    controller=controller,\n",
    "    X0=np.array([1.0, 0.0]),\n",
    "    n=10_000,\n",
    "    dt=0.01,\n",
    "    reference=np.ones(10_000),\n",
    ")"
   ]
  },
  {
   "cell_type": "code",
   "execution_count": 81,
   "metadata": {},
   "outputs": [
    {
     "data": {
      "image/png": "[encoded data removed]",
      "text/plain": [
       "<Figure size 640x480 with 1 Axes>"
      ]
     },
     "metadata": {},
     "output_type": "display_data"
    }
   ],
   "source": [
    "plt.plot(true_X[:, 0], label=\"Position (true)\", color=\"C0\")\n",
    "plt.plot(model_X[:, 0], label=\"Position (ML)\", color=\"C1\")\n",
    "plt.plot(true_forces, label=\"Force (true)\", linestyle=\"--\", color=\"C0\")\n",
    "plt.plot(model_forces, label=\"Force (ML)\", linestyle=\"--\", color=\"C1\")\n",
    "plt.xlabel(\"Time\")\n",
    "plt.ylabel(\"Values\")\n",
    "plt.title(\"Controlled Damped Harmonic Oscillator\")\n",
    "plt.legend()\n",
    "plt.grid()\n",
    "plt.ylim(-2, 2)\n",
    "plt.show()"
   ]
  }
 ],
 "metadata": {
  "kernelspec": {
   "display_name": ".venv",
   "language": "python",
   "name": "python3"
  },
  "language_info": {
   "codemirror_mode": {
    "name": "ipython",
    "version": 3
   },
   "file_extension": ".py",
   "mimetype": "text/x-python",
   "name": "python",
   "nbconvert_exporter": "python",
   "pygments_lexer": "ipython3",
   "version": "3.13.1"
  }
 },
 "nbformat": 4,
 "nbformat_minor": 2
}
